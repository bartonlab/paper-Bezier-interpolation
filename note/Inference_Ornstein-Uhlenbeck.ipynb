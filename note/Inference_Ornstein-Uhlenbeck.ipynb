{
 "cells": [
  {
   "cell_type": "code",
   "execution_count": 5,
   "id": "b3adf25b",
   "metadata": {},
   "outputs": [],
   "source": [
    "using DelimitedFiles\n",
    "using Distances\n",
    "using StatsBase \n",
    "using Random\n",
    "using Measures\n",
    "using Statistics\n",
    "using LinearAlgebra\n",
    "using Distributions\n",
    "using Plots\n",
    "using Printf\n",
    "rng = Random.MersenneTwister(1234);\n",
    "include(\"../src/OU/Bezier_interpolation.jl\")\n",
    "include(\"../src/OU/analysis.jl\")\n",
    "include(\"../src/common/common_Bezier.jl\");\n",
    "include(\"../src/common/common_analysis.jl\");"
   ]
  },
  {
   "cell_type": "markdown",
   "id": "573e6e51",
   "metadata": {},
   "source": [
    "## Set parameters"
   ]
  },
  {
   "cell_type": "code",
   "execution_count": 22,
   "id": "3eeac867",
   "metadata": {},
   "outputs": [],
   "source": [
    "P = 40 \n",
    "L = 50 \n",
    "dt = 0.001\n",
    "D = 0.1\n",
    "sqrt_Ddt = sqrt(D*dt)\n",
    "T = 1000;\n",
    "\n",
    "dir_out = \"../out/OU/\";"
   ]
  },
  {
   "cell_type": "code",
   "execution_count": 23,
   "id": "63d9a335",
   "metadata": {},
   "outputs": [],
   "source": [
    "# Get interaction matrix\n",
    "(patterns_embbeded, J) = get_patterns_J(L,P); "
   ]
  },
  {
   "cell_type": "markdown",
   "id": "c33e25bf",
   "metadata": {},
   "source": [
    "# Generate trajecotries and energy of the Ornstein-Uhlenbeck process"
   ]
  },
  {
   "cell_type": "code",
   "execution_count": 24,
   "id": "92c0caf8",
   "metadata": {},
   "outputs": [],
   "source": [
    "n_ensemble_temp=100\n",
    "T_temp = 10000\n",
    "\n",
    "x_ensembles_temp = zeros(n_ensemble_temp, T_temp, L)\n",
    "n_t_observe_temp = 5\n",
    "t_ensembles_temp = []\n",
    "\n",
    "x0 = zeros(L)\n",
    "for i in 1:(Int(floor(0.3*L)))\n",
    "    x0[i] = 5\n",
    "end\n",
    "for i in (Int(floor(0.7*L))):L\n",
    "    x0[i] = -5\n",
    "end\n",
    "\n",
    "n_t_count_max = 1\n",
    "for n in 1:n_ensemble_temp\n",
    "    x = copy(x0)\n",
    "    n_t_count = 1\n",
    "    for n_t in 0:T_temp\n",
    "        #x += dt * ( J*copy(x) + sqrt_Ddt*randn(L) )  \n",
    "        x += dt * J*copy(x) +sqrt_Ddt* randn(L) \n",
    "        if(n_t%n_t_observe_temp==0)\n",
    "            x_ensembles_temp[n, n_t_count, :] = copy(x)\n",
    "            if(n==1)\n",
    "                t_ensembles_temp = push!(t_ensembles_temp, n_t * dt)\n",
    "            end\n",
    "            n_t_count +=1\n",
    "        end\n",
    "    end\n",
    "    if(n==1)\n",
    "        n_t_count_max = n_t_count-1\n",
    "    end\n",
    "end\n",
    "erg_evolution_avg = [mean([get_energy(x_ensembles_temp[n, n_t_count,:], J) for n in 1:n_ensemble_temp]) for n_t_count in 1:n_t_count_max];\n"
   ]
  },
  {
   "cell_type": "code",
   "execution_count": 25,
   "id": "08251a0e",
   "metadata": {},
   "outputs": [],
   "source": [
    "# Get effective energy of OU processes\n",
    "n_ensemble_temp=100\n",
    "T_temp = 10000\n",
    "n_t_observe_temp = 5\n",
    "erg_evolution_avg = get_effective_energy_OU(n_ensemble_temp, n_t_observe_temp, T_temp, L, J, sqrt_Ddt);"
   ]
  },
  {
   "cell_type": "code",
   "execution_count": 26,
   "id": "849f29fb",
   "metadata": {},
   "outputs": [],
   "source": [
    "# Out put: whole trajectories and energy profiles\n",
    "fout_trajectory = open(dir_out * \"trajectory.dat\", \"w\")\n",
    "for n in 1:n_ensemble_temp\n",
    "    for n_t in 1:n_t_count_max\n",
    "        print(fout_trajectory, n, \"\\t\",n_t, \"\\t\", n_t*dt, \"\\t\")\n",
    "        for i in 1:L\n",
    "            print(fout_trajectory, x_ensembles_temp[n,n_t,i],\" \")\n",
    "        end\n",
    "        println(fout_trajectory, \"\\n\")\n",
    "    end\n",
    "end\n",
    "close(fout_trajectory)\n",
    "\n",
    "# out put energy trajectory to a file\n",
    "fout_energy = open(dir_out * \"energy.dat\", \"w\")\n",
    "for n in 1:size(erg_evolution_avg,1)\n",
    "    println(fout_energy, n, \"\\t\", n*dt, \"\\t\", erg_evolution_avg[n])\n",
    "end\n",
    "close(fout_energy);\n",
    "\n",
    "\n",
    "fout_times = open(dir_out * \"tiems.dat\", \"w\")\n",
    "for t in t_ensembles_temp\n",
    "    println(fout_times, t)\n",
    "end\n",
    "close(fout_times);\n"
   ]
  },
  {
   "cell_type": "markdown",
   "id": "8ecbfe62",
   "metadata": {},
   "source": [
    "# Infer interaction coupling parameter "
   ]
  },
  {
   "cell_type": "code",
   "execution_count": 27,
   "id": "bebbf942",
   "metadata": {},
   "outputs": [],
   "source": [
    "# set sampling interval\n",
    "n_ensemble=500 #--- original\n",
    "T = 10000\n",
    "(x_ensembles, t_ensembles) = get_x_t_ensembles(L, T, dt, D, n_ensemble, J);"
   ]
  },
  {
   "cell_type": "markdown",
   "id": "3463313a",
   "metadata": {},
   "source": [
    "## Invese of covariance, a simple equilibrium inference method based on the mean-field theory. "
   ]
  },
  {
   "cell_type": "code",
   "execution_count": 28,
   "id": "c9c528b7",
   "metadata": {},
   "outputs": [],
   "source": [
    "t_observe = 3000\n",
    "C_set = []\n",
    "c_tot = zeros(L,L)\n",
    "\n",
    "index_observe = collect(0:T)\n",
    "index_observe = index_observe[ index_observe .% t_observe .== 0] .+1\n",
    "\n",
    "x_ensembles_partial = copy(x_ensembles[:,index_observe,:])\n",
    "t_ensembles_partial = copy(t_ensembles[index_observe])\n",
    "K = size(index_observe,1)\n",
    "for k in 1:(K-1)\n",
    "    x_set_k = x_ensembles_partial[:,k,:]\n",
    "    x_mean = sum(x_set_k, dims=1) / size(x_ensembles_partial,1)\n",
    "    c_k = x_set_k' * x_set_k / size(x_ensembles_partial,1) - x_mean' * x_mean;\n",
    "    c_tot += copy(c_k)\n",
    "end\n",
    "J_est_eq = -inv(cholesky(c_tot / (K-1) + 0.01*I));"
   ]
  },
  {
   "cell_type": "markdown",
   "id": "c034c06f",
   "metadata": {},
   "source": [
    "## Naive MPL: MPL with the pice-wise constant interpolation"
   ]
  },
  {
   "cell_type": "code",
   "execution_count": 29,
   "id": "d9bd1bfc",
   "metadata": {},
   "outputs": [],
   "source": [
    "my_numerator = zeros(L,L)\n",
    "my_denominator = zeros(L,L);\n",
    "\n",
    "for n in 1:n_ensemble\n",
    "    for k in 1:(K-1)\n",
    "        dx = x_ensembles_partial[n, k+1,:] - x_ensembles_partial[n, k,:]\n",
    "        dt_int = t_ensembles_partial[k+1] - t_ensembles_partial[k]\n",
    "        my_numerator += copy( x_ensembles_partial[n, k,:] * dx' ) \n",
    "        my_denominator += copy( dt_int * x_ensembles_partial[n, k,:]*x_ensembles_partial[n, k,:]' )\n",
    "    end\n",
    "end\n",
    "J_est = (my_denominator + I) \\  my_numerator ;"
   ]
  },
  {
   "cell_type": "markdown",
   "id": "496956d3",
   "metadata": {},
   "source": [
    "## Linear MPL: MPL with the linear interpolation"
   ]
  },
  {
   "cell_type": "code",
   "execution_count": 30,
   "id": "aaa68b0d",
   "metadata": {},
   "outputs": [],
   "source": [
    "Q1 = [1/3 1/6; 1/6 1/3];\n",
    "my_numerator_Lin = zeros(L,L)\n",
    "my_denominator_Lin = zeros(L,L);\n",
    "\n",
    "for n in 1:n_ensemble\n",
    "    for k in 1:(K-1)\n",
    "        dt_int = t_ensembles_partial[k+1] - t_ensembles_partial[k]        \n",
    "        x_k = copy(x_ensembles_partial[n,k,:])\n",
    "        x_kp1 = copy(x_ensembles_partial[n,k+1,:])\n",
    "        \n",
    "        ##### integrated outer product of xΔx^T is (x(1)+x(0))*(x(1)-x(0))^T\n",
    "        my_numerator_Lin += copy(0.5 * (x_kp1+x_k)*(x_kp1-x_k)' ) \n",
    "        ##### integrated covariance #####\n",
    "        my_denominator_Lin += copy( dt_int * x_ensembles_partial[n, k:(k+1),:]' * Q1 * x_ensembles_partial[n, k:(k+1),:] )\n",
    "    end\n",
    "end\n",
    "J_est_Lin = (my_denominator_Lin + I) \\  my_numerator_Lin ;"
   ]
  },
  {
   "cell_type": "markdown",
   "id": "7263d3bf",
   "metadata": {},
   "source": [
    "## Bezier MPL: MPL with Bezier interpolation"
   ]
  },
  {
   "cell_type": "code",
   "execution_count": 31,
   "id": "f114cc32",
   "metadata": {},
   "outputs": [],
   "source": [
    "# The following shuld be included in protected scripts.\n",
    "\n",
    "## This metrix characterizes the x_Bez and x_Bez product\n",
    "Mat_Bez = get_integrated_Bezier_2nd();\n",
    "## This matrix is for the x_Bez and d/dt x_Bez product\n",
    "Mat_Bez_2 = get_integrated_Bezier_single();\n"
   ]
  },
  {
   "cell_type": "code",
   "execution_count": 32,
   "id": "9ad62f3b",
   "metadata": {},
   "outputs": [],
   "source": [
    "my_numerator_Bez = zeros(L,L)\n",
    "my_denominator_Bez = zeros(L,L);\n",
    "\n",
    "for n in 1:n_ensemble\n",
    "    #estimating the controle point vectos a and b.\n",
    "    a_vec_set = zeros(K-1, L)\n",
    "    b_vec_set = zeros(K-1, L)\n",
    "    for i in 1:L\n",
    "        (a_vec, b_vec) = get_a_b_Bezier(K-1, x_ensembles_partial[n,:,i])\n",
    "        a_vec_set[:, i] = copy(a_vec)\n",
    "        b_vec_set[:, i] = copy(b_vec)    \n",
    "    end\n",
    "    \n",
    "    for k in 1:(K-1)\n",
    "        dt_int = t_ensembles_partial[k+1] - t_ensembles_partial[k]\n",
    "        \n",
    "        #----- set x_Bez matrix ------#\n",
    "        x_Bez = zeros(L, 4)\n",
    "        x_Bez[:, 1] = copy(x_ensembles_partial[n,k,:])\n",
    "        x_Bez[:, 2] = 3*copy(a_vec_set[k, :]) # coefficient 3 should be carefully treated!\n",
    "        x_Bez[:, 3] = 3*copy(b_vec_set[k, :])\n",
    "        x_Bez[:, 4] = copy(x_ensembles_partial[n,k+1,:]);\n",
    "        \n",
    "        #------- x_Bez and x_Bez product for the denominator -------#\n",
    "        x_xT_Bez = x_Bez * Mat_Bez * x_Bez';\n",
    "        #------- x_Bez and d/dt x_Bez product for the numerator -------#\n",
    "        x_dxT_Bez = (x_Bez * Mat_Bez_2 * x_Bez')';\n",
    "        \n",
    "        ##### integrated outer product of xΔx^T is (x(1)+x(0))*(x(1)-x(0))^T\n",
    "        my_numerator_Bez += copy( x_dxT_Bez ) \n",
    "        ##### integrated covariance #####\n",
    "        my_denominator_Bez += copy( dt_int * x_xT_Bez )\n",
    "    end\n",
    "end\n",
    "J_est_Bez = (my_denominator_Bez + I) \\  my_numerator_Bez ;"
   ]
  },
  {
   "cell_type": "markdown",
   "id": "3afbbd79",
   "metadata": {},
   "source": [
    "## Output coupling matrices "
   ]
  },
  {
   "cell_type": "code",
   "execution_count": 33,
   "id": "537fe372",
   "metadata": {},
   "outputs": [],
   "source": [
    "fout_Jtrue = open(dir_out * \"coupling_true.dat\", \"w\") \n",
    "fout_J_inv_cov = open(dir_out * \"coupling_inverse-cov.dat\", \"w\") \n",
    "fout_J_naive = open(dir_out * \"coupling_naive-MPL.dat\", \"w\") \n",
    "fout_J_lin = open(dir_out * \"coupling_linear-MPL.dat\", \"w\") \n",
    "fout_J_Bez = open(dir_out * \"coupling_Bezier-MPL.dat\", \"w\"); \n",
    "\n",
    "for i in 1:L\n",
    "    for j in i:L\n",
    "        println(fout_Jtrue, i, \" \", j, \" \", J[i,j])\n",
    "        println(fout_J_inv_cov, i, \" \", j, \" \", J_est_eq[i,j])\n",
    "        println(fout_J_naive, i, \" \", j, \" \", J_est[i,j])        \n",
    "        println(fout_J_lin, i, \" \", j, \" \", J_est_Lin[i,j])        \n",
    "        println(fout_J_Bez, i, \" \", j, \" \", J_est_Bez[i,j])        \n",
    "    end\n",
    "end\n",
    "close(fout_Jtrue); close(fout_J_inv_cov); close(fout_J_naive); close(fout_J_lin); close(fout_J_Bez);\n"
   ]
  },
  {
   "cell_type": "markdown",
   "id": "f4df58bc",
   "metadata": {},
   "source": [
    "# Analysis: sampling interval dependency"
   ]
  },
  {
   "cell_type": "code",
   "execution_count": 34,
   "id": "3916210e",
   "metadata": {},
   "outputs": [
    {
     "name": "stdout",
     "output_type": "stream",
     "text": [
      "# of iteration and sample size are 10 and 500, respectively\n",
      "D, diffusion is 0.100\n",
      "dt, discritized time unit is 0.001\n",
      "249.942151 seconds (598.48 M allocations: 1.123 TiB, 30.67% gc time)\n"
     ]
    }
   ],
   "source": [
    "# This process takes 50-150 sec.\n",
    "t_observe_set = [1000, 2000, 3000, 4000, 5000] \n",
    "\n",
    "n_observe_set = size(t_observe_set,1)\n",
    "\n",
    "n_iteration_max = 10\n",
    "@printf(\"# of iteration and sample size are %d and %d, respectively\\n\", n_iteration_max, n_ensemble)\n",
    "@printf(\"D, diffusion is %.3f\\n\", D)\n",
    "@printf(\"dt, discritized time unit is %.3f\\n\", dt)\n",
    "corr_ensemble_Lin = zeros(n_observe_set, 2, 2, n_iteration_max)# Ps, diag/offdiag, slope/corr, n\n",
    "corr_ensemble_Bez = zeros(n_observe_set, 2, 2, n_iteration_max) \n",
    "id_slop, id_cor=1,2\n",
    "id_diag, id_offdia=1,2\n",
    "\n",
    "erg_evolution_avg_set = []\n",
    "\n",
    "@time for n_itr in 1:n_iteration_max\n",
    "    \n",
    "    (patterns_embbeded, J) = get_patterns_J(L,P);\n",
    "    (x_ensembles, t_ensembles) = get_x_t_ensembles(L, T, dt, D, n_ensemble, J);\n",
    "    \n",
    "    for id_observe in 1:n_observe_set\n",
    "        t_observe = t_observe_set[id_observe]\n",
    "        index_observe = collect(0:T)\n",
    "        index_observe = index_observe[ index_observe .% t_observe .== 0] .+ 1    \n",
    "        \n",
    "        x_ensembles_partial = copy(x_ensembles[:,index_observe,:])\n",
    "        t_ensembles_partial = copy(t_ensembles[index_observe]) \n",
    "        K = size(index_observe,1)\n",
    "        #@show L, K\n",
    "\n",
    "        J_est_Lin = estimate_Linear(L, x_ensembles_partial, t_ensembles_partial )\n",
    "        J_est_Bez = estimate_Bezier(L, x_ensembles_partial, t_ensembles_partial )\n",
    "        (J_diag, J_offdiag) = get_diag_offdiag(J)\n",
    "        (J_Lin_diag, J_Lin_offdiag) = get_diag_offdiag(J_est_Lin)\n",
    "        (J_Bez_diag, J_Bez_offdiag) = get_diag_offdiag(J_est_Bez)\n",
    "\n",
    "        (slope_diag_Lin, cor_diag_Lin) = get_corslope(J_diag, J_Lin_diag)\n",
    "        (slope_offdiag_Lin, cor_offdiag_Lin) = get_corslope(vec(J_offdiag), vec(J_Lin_offdiag))\n",
    "        (slope_diag_Bez, cor_diag_Bez) = get_corslope(J_diag, J_Bez_diag )\n",
    "        (slope_offdiag_Bez, cor_offdiag_Bez) = get_corslope(vec(J_offdiag), vec(J_Bez_offdiag) )\n",
    "\n",
    "        corr_ensemble_Lin[id_observe, id_diag, id_slop, n_itr] = slope_diag_Lin\n",
    "        corr_ensemble_Lin[id_observe, id_diag, id_cor, n_itr] = cor_diag_Lin\n",
    "        corr_ensemble_Lin[id_observe, id_offdia, id_slop, n_itr] = slope_offdiag_Lin\n",
    "        corr_ensemble_Lin[id_observe, id_offdia, id_cor, n_itr] = cor_offdiag_Lin\n",
    "\n",
    "        corr_ensemble_Bez[id_observe, id_diag, id_slop, n_itr] = slope_diag_Bez\n",
    "        corr_ensemble_Bez[id_observe, id_diag, id_cor, n_itr] = cor_diag_Bez\n",
    "        corr_ensemble_Bez[id_observe, id_offdia, id_slop, n_itr] = slope_offdiag_Bez\n",
    "        corr_ensemble_Bez[id_observe, id_offdia, id_cor, n_itr] = cor_offdiag_Bez\n",
    "    end\n",
    "end"
   ]
  },
  {
   "cell_type": "code",
   "execution_count": 35,
   "id": "1cc42db5",
   "metadata": {},
   "outputs": [],
   "source": [
    "# Compute Pearson correlation and slope between true and estimated coupling matrices \n",
    "\n",
    "corr_diag_slope_Lin = [mean(corr_ensemble_Lin[id_observe, id_diag, id_slop,:]) for id_observe in 1:n_observe_set]\n",
    "corr_diag_slope_Bez = [mean(corr_ensemble_Bez[id_observe, id_diag, id_slop,:]) for id_observe in 1:n_observe_set]\n",
    "corr_offdiag_slope_Lin = [mean(corr_ensemble_Lin[id_observe, id_offdia, id_slop,:]) for id_observe in 1:n_observe_set]\n",
    "corr_offdiag_slope_Bez = [mean(corr_ensemble_Bez[id_observe, id_offdia, id_slop,:]) for id_observe in 1:n_observe_set];\n",
    "\n",
    "sqrt_n_iteration_max = sqrt(n_iteration_max)\n",
    "corr_diag_slope_Lin_std = [std(corr_ensemble_Lin[id_observe, id_diag, id_slop,:])/sqrt_n_iteration_max for id_observe in 1:n_observe_set]\n",
    "corr_diag_slope_Bez_std = [std(corr_ensemble_Bez[id_observe, id_diag, id_slop,:])/sqrt_n_iteration_max for id_observe in 1:n_observe_set]\n",
    "corr_offdiag_slope_Lin_std = [std(corr_ensemble_Lin[id_observe, id_offdia, id_slop,:])/sqrt_n_iteration_max for id_observe in 1:n_observe_set]\n",
    "corr_offdiag_slope_Bez_std = [std(corr_ensemble_Bez[id_observe, id_offdia, id_slop,:])/sqrt_n_iteration_max for id_observe in 1:n_observe_set];\n",
    "\n",
    "corr_diag_cor_Lin = [mean(corr_ensemble_Lin[id_observe, id_diag, id_cor,:]) for id_observe in 1:n_observe_set]\n",
    "corr_diag_cor_Bez = [mean(corr_ensemble_Bez[id_observe, id_diag, id_cor,:]) for id_observe in 1:n_observe_set]\n",
    "corr_offdiag_cor_Lin = [mean(corr_ensemble_Lin[id_observe, id_offdia, id_cor,:]) for id_observe in 1:n_observe_set]\n",
    "corr_offdiag_cor_Bez = [mean(corr_ensemble_Bez[id_observe, id_offdia, id_cor,:]) for id_observe in 1:n_observe_set];\n",
    "\n",
    "corr_diag_cor_Lin_std = [std(corr_ensemble_Lin[id_observe, id_diag, id_cor,:])/sqrt_n_iteration_max for id_observe in 1:n_observe_set]\n",
    "corr_diag_cor_Bez_std = [std(corr_ensemble_Bez[id_observe, id_diag, id_cor,:])/sqrt_n_iteration_max for id_observe in 1:n_observe_set]\n",
    "corr_offdiag_cor_Lin_std = [std(corr_ensemble_Lin[id_observe, id_offdia, id_cor,:])/sqrt_n_iteration_max for id_observe in 1:n_observe_set]\n",
    "corr_offdiag_cor_Bez_std = [std(corr_ensemble_Bez[id_observe, id_offdia, id_cor,:])/sqrt_n_iteration_max for id_observe in 1:n_observe_set];\n"
   ]
  },
  {
   "cell_type": "markdown",
   "id": "309a7c07",
   "metadata": {},
   "source": [
    "### Output: slope and Pearson correlation values"
   ]
  },
  {
   "cell_type": "code",
   "execution_count": 36,
   "id": "c3bbbbec",
   "metadata": {},
   "outputs": [],
   "source": [
    "fout_Lin_corr = open(dir_out * \"sampling_interval_dependency_Lin_corr.dat\", \"w\") \n",
    "fout_Bez_corr = open(dir_out * \"sampling_interval_dependency_Bez_corr.dat\", \"w\") \n",
    "fout_Lin_slope = open(dir_out * \"sampling_interval_dependency_Lin_slope.dat\", \"w\") \n",
    "fout_Bez_slope = open(dir_out * \"sampling_interval_dependency_Bez_slope.dat\", \"w\") ;\n",
    "\n",
    "for n in 1:size(corr_diag_slope_Lin,1)\n",
    "    println(fout_Lin_slope, t_observe_set[n], \"\\t\", corr_diag_slope_Lin[n], \"\\t\", corr_diag_slope_Lin_std[n], \"\\t\", corr_offdiag_slope_Lin[n], \"\\t\", corr_offdiag_slope_Lin_std[n])\n",
    "    println(fout_Bez_slope, t_observe_set[n], \"\\t\", corr_diag_slope_Bez[n], \"\\t\", corr_diag_slope_Bez_std[n], \"\\t\", corr_offdiag_slope_Bez[n], \"\\t\", corr_offdiag_slope_Bez_std[n])\n",
    "    \n",
    "    println(fout_Lin_corr, t_observe_set[n], \"\\t\", corr_diag_cor_Lin[n], \"\\t\", corr_diag_cor_Lin_std[n], \"\\t\", corr_offdiag_cor_Lin[n], \"\\t\", corr_offdiag_cor_Lin_std[n])\n",
    "    println(fout_Bez_corr, t_observe_set[n], \"\\t\", corr_diag_cor_Bez[n], \"\\t\", corr_diag_cor_Bez_std[n], \"\\t\", corr_offdiag_cor_Bez[n], \"\\t\", corr_offdiag_cor_Bez_std[n])\n",
    "end\n",
    "close(fout_Lin_slope); close(fout_Bez_slope); close(fout_Lin_corr); close(fout_Bez_corr);\n",
    "    "
   ]
  },
  {
   "cell_type": "markdown",
   "id": "3cf32999",
   "metadata": {},
   "source": [
    "### Output: linear regrssion parameters "
   ]
  },
  {
   "cell_type": "code",
   "execution_count": 37,
   "id": "9c1eac7b",
   "metadata": {},
   "outputs": [],
   "source": [
    "reg_coef_diag_Lin_slope = linreg_tot(t_observe_set, corr_diag_slope_Lin)\n",
    "reg_coef_offdiag_Lin_slope = linreg_tot(t_observe_set, corr_offdiag_slope_Lin)\n",
    "reg_coef_diag_Bez_slope = linreg_tot(t_observe_set, corr_diag_slope_Bez)\n",
    "reg_coef_offdiag_Bez_slope = linreg_tot(t_observe_set, corr_offdiag_slope_Bez);\n",
    "    \n",
    "reg_coef_diag_Lin_corr = linreg_tot(t_observe_set, corr_diag_cor_Lin)\n",
    "reg_coef_offdiag_Lin_corr = linreg_tot(t_observe_set, corr_offdiag_cor_Lin);\n",
    "reg_coef_diag_Bez_corr = linreg_tot(t_observe_set, corr_diag_cor_Bez)\n",
    "reg_coef_offdiag_Bez_corr = linreg_tot(t_observe_set, corr_offdiag_cor_Bez);\n",
    "\n",
    "\n",
    "fout_Lin_linreg = open(dir_out * \"linreg-parameters_Lin.dat\", \"w\") \n",
    "fout_Bez_linreg = open(dir_out * \"linreg-parameters_Bez.dat\", \"w\") ;\n",
    "\n",
    "#Linear: diag_slope, off-diag_slope, diag_cor, off-diag_cor\n",
    "println(fout_Lin_linreg, reg_coef_diag_Lin_slope[1], \"\\t\", reg_coef_offdiag_Lin_slope[1], \"\\t\", reg_coef_diag_Lin_corr[1], \"\\t\", reg_coef_offdiag_Lin_corr[1])\n",
    "println(fout_Lin_linreg, reg_coef_diag_Lin_slope[2], \"\\t\", reg_coef_offdiag_Lin_slope[2], \"\\t\", reg_coef_diag_Lin_corr[2], \"\\t\", reg_coef_offdiag_Lin_corr[2])\n",
    "\n",
    "#Bezier: diag_slope, off-diag_slope, diag_cor, off-diag_cor\n",
    "println(fout_Bez_linreg, reg_coef_diag_Bez_slope[1], \"\\t\", reg_coef_offdiag_Bez_slope[1], \"\\t\", reg_coef_diag_Bez_corr[1], \"\\t\", reg_coef_offdiag_Bez_corr[1])\n",
    "println(fout_Bez_linreg, reg_coef_diag_Bez_slope[2], \"\\t\", reg_coef_offdiag_Bez_slope[2], \"\\t\", reg_coef_diag_Bez_corr[2], \"\\t\", reg_coef_offdiag_Bez_corr[2])\n",
    "\n",
    "close(fout_Lin_linreg); close(fout_Bez_linreg);"
   ]
  },
  {
   "cell_type": "code",
   "execution_count": null,
   "id": "45ba385d",
   "metadata": {},
   "outputs": [],
   "source": []
  },
  {
   "cell_type": "code",
   "execution_count": null,
   "id": "2cf32b23",
   "metadata": {},
   "outputs": [],
   "source": []
  }
 ],
 "metadata": {
  "kernelspec": {
   "display_name": "Julia 1.1.1",
   "language": "julia",
   "name": "julia-1.1"
  },
  "language_info": {
   "file_extension": ".jl",
   "mimetype": "application/julia",
   "name": "julia",
   "version": "1.1.1"
  }
 },
 "nbformat": 4,
 "nbformat_minor": 5
}
