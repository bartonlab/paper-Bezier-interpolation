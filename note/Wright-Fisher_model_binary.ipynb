{
 "cells": [
  {
   "cell_type": "code",
   "execution_count": 23,
   "id": "c07f429a",
   "metadata": {},
   "outputs": [],
   "source": [
    "using DelimitedFiles\n",
    "using StatsBase \n",
    "using Random\n",
    "using LinearAlgebra\n",
    "using Plots\n",
    "using LaTeXStrings\n",
    "using Printf\n",
    "using Distributions: Multinomial, Binomial, Uniform\n",
    "rng = Random.MersenneTwister(1234);"
   ]
  },
  {
   "cell_type": "code",
   "execution_count": 24,
   "id": "c18f185a",
   "metadata": {},
   "outputs": [],
   "source": [
    "include(\"../src/WF/Wright-Fisher.jl\");"
   ]
  },
  {
   "cell_type": "code",
   "execution_count": 48,
   "id": "6d122a24",
   "metadata": {},
   "outputs": [],
   "source": [
    "\"\"\"\n",
    "T = 301 # stopping time. \n",
    "K = 6 # number of observation including begning and end. \n",
    "\"\"\"\n",
    "function get_random_sampling_interval(T=300, K=6)    \n",
    "    interval_raw = rand(Uniform(0,1), K)\n",
    "    normalize_interval = sum(interval_raw)\n",
    "    dt_list = [Int(floor(T * interval_raw[i]/normalize_interval)) for i in 1:(K-1)]\n",
    "    dt_last = T-sum(dt_list)\n",
    "    push!(dt_list, dt_last);\n",
    "    \n",
    "    dt_accum_list = []\n",
    "    dt_accum = 1\n",
    "    push!(dt_accum_list, dt_accum)\n",
    "    \n",
    "    for i in 1:K\n",
    "        dt_accum += dt_list[i]\n",
    "        push!(dt_accum_list, dt_accum)\n",
    "    end\n",
    "    return (copy(dt_list), copy(dt_accum_list))\n",
    "end;"
   ]
  },
  {
   "cell_type": "markdown",
   "id": "b32023b4",
   "metadata": {},
   "source": [
    "## Set fitness parameters for Wright-Fisher model"
   ]
  },
  {
   "cell_type": "code",
   "execution_count": 6,
   "id": "85116167",
   "metadata": {},
   "outputs": [],
   "source": [
    "# Set true fitness parameters\n",
    "L = 50\n",
    "nB, nD = 10, 10\n",
    "fB, fD = 0.03, -0.03\n",
    "h = zeros(L)\n",
    "for i in 1:nB \n",
    "    h[i] = fB \n",
    "end\n",
    "for i in 1:nD \n",
    "    h[end+1 - i] = fD \n",
    "end;\n"
   ]
  },
  {
   "cell_type": "markdown",
   "id": "e6a59884",
   "metadata": {},
   "source": [
    "## Get trajactories for Wright Fisher model."
   ]
  },
  {
   "cell_type": "code",
   "execution_count": 8,
   "id": "46ce2320",
   "metadata": {},
   "outputs": [],
   "source": [
    "dir_out = \"../data_temp/WF/N1000/\";\n",
    "N = 1000 # Population size\n",
    "sampling_time_set = collect(1:301) # collect samples that are observed in this set.\n",
    "for ensemble_id in 1:100\n",
    "    WF_set = get_allels_freq_series(\n",
    "            h,\n",
    "            ensemble_id,\n",
    "            dir_out, \n",
    "            N, \n",
    "            sampling_time_set);\n",
    "end"
   ]
  },
  {
   "cell_type": "code",
   "execution_count": 53,
   "id": "08046243",
   "metadata": {},
   "outputs": [],
   "source": [
    "\"\"\"\n",
    "dir_out = \"../data_temp/WF/N100_heterogeneous_times/\";\n",
    "file_key=\"standard\"\n",
    "mu=1e-3\n",
    "T=301\n",
    "N = 100\n",
    "for ensemble_id in 1:100\n",
    "    (dt_list, dt_accum_list) = get_random_sampling_interval()\n",
    "    WF_set = get_allels_freq_series(\n",
    "        h,\n",
    "        ensemble_id,\n",
    "        dir_out, \n",
    "        N, \n",
    "        dt_accum_list);\n",
    "end\n",
    "\"\"\";"
   ]
  },
  {
   "cell_type": "code",
   "execution_count": null,
   "id": "f381e862",
   "metadata": {},
   "outputs": [],
   "source": []
  },
  {
   "cell_type": "code",
   "execution_count": 38,
   "id": "41eb15ee",
   "metadata": {},
   "outputs": [],
   "source": []
  },
  {
   "cell_type": "code",
   "execution_count": null,
   "id": "7686adb6",
   "metadata": {},
   "outputs": [],
   "source": []
  },
  {
   "cell_type": "code",
   "execution_count": null,
   "id": "91bb2653",
   "metadata": {},
   "outputs": [],
   "source": []
  }
 ],
 "metadata": {
  "kernelspec": {
   "display_name": "Julia 1.1.1",
   "language": "julia",
   "name": "julia-1.1"
  },
  "language_info": {
   "file_extension": ".jl",
   "mimetype": "application/julia",
   "name": "julia",
   "version": "1.1.1"
  }
 },
 "nbformat": 4,
 "nbformat_minor": 5
}
